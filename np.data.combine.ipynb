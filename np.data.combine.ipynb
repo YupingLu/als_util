{
 "cells": [
  {
   "cell_type": "code",
   "execution_count": null,
   "metadata": {},
   "outputs": [],
   "source": [
    "# load libs\n",
    "import torch\n",
    "import torch.nn as nn\n",
    "import torch.optim as optim\n",
    "from torch.utils.data import DataLoader, Dataset\n",
    "import numpy as np\n",
    "import random\n",
    "import matplotlib.pyplot as plt\n",
    "import pickle"
   ]
  },
  {
   "cell_type": "code",
   "execution_count": null,
   "metadata": {},
   "outputs": [],
   "source": [
    "# load files\n",
    "fc0 = pickle.load(open(\"/home/ylu/data/model/cnn.ap.09.22-23.pkl\", \"rb\"))\n",
    "x_train0, x_test0 = fc0[\"x_train\"], fc0[\"x_test\"]\n",
    "y_train0, y_test0 = fc0[\"y_train\"], fc0[\"y_test\"]"
   ]
  },
  {
   "cell_type": "code",
   "execution_count": null,
   "metadata": {},
   "outputs": [],
   "source": [
    "print(x_train0.shape, x_test0.shape, y_train0.shape, y_test0.shape)"
   ]
  },
  {
   "cell_type": "code",
   "execution_count": null,
   "metadata": {},
   "outputs": [],
   "source": [
    "# load files\n",
    "fc1 = pickle.load(open(\"/home/ylu/data/model/cnn.ap.10.01-02.pkl\", \"rb\"))\n",
    "x_train1, x_test1 = fc1[\"x_train\"], fc1[\"x_test\"]\n",
    "y_train1, y_test1 = fc1[\"y_train\"], fc1[\"y_test\"]"
   ]
  },
  {
   "cell_type": "code",
   "execution_count": null,
   "metadata": {},
   "outputs": [],
   "source": [
    "print(x_train1.shape, x_test1.shape, y_train1.shape, y_test1.shape)"
   ]
  },
  {
   "cell_type": "code",
   "execution_count": null,
   "metadata": {},
   "outputs": [],
   "source": [
    "x_train = np.append(x_train0, x_train1, axis=0)\n",
    "x_test = np.append(x_test0, x_test1, axis=0)\n",
    "y_train = np.append(y_train0, y_train1, axis=0)\n",
    "y_test = np.append(y_test0, y_test1, axis=0)"
   ]
  },
  {
   "cell_type": "code",
   "execution_count": null,
   "metadata": {},
   "outputs": [],
   "source": [
    "print(x_train.shape, x_test.shape, y_train.shape, y_test.shape)"
   ]
  },
  {
   "cell_type": "code",
   "execution_count": null,
   "metadata": {},
   "outputs": [],
   "source": []
  }
 ],
 "metadata": {
  "kernelspec": {
   "display_name": "Python 3",
   "language": "python",
   "name": "python3"
  },
  "language_info": {
   "codemirror_mode": {
    "name": "ipython",
    "version": 3
   },
   "file_extension": ".py",
   "mimetype": "text/x-python",
   "name": "python",
   "nbconvert_exporter": "python",
   "pygments_lexer": "ipython3",
   "version": "3.7.5"
  }
 },
 "nbformat": 4,
 "nbformat_minor": 4
}
