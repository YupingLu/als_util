{
 "cells": [
  {
   "cell_type": "code",
   "execution_count": 1,
   "metadata": {},
   "outputs": [],
   "source": [
    "'''\n",
    "script to get the baseline of YRMSAve and XRMSAve\n",
    "Copyright (c) Yuping Lu <yupinglu89@gmail.com>, 2019\n",
    "Last Update: 10/21/2019\n",
    "'''\n",
    "# load libs\n",
    "import numpy as np\n",
    "import pandas as pd\n",
    "import matplotlib.pyplot as plt"
   ]
  },
  {
   "cell_type": "code",
   "execution_count": 2,
   "metadata": {},
   "outputs": [],
   "source": [
    "# function to get YMRSAve\n",
    "def getYRMS(fs):\n",
    "    data = []\n",
    "    # load files\n",
    "    for f in fs:\n",
    "        tmp_df = pd.read_pickle(f)\n",
    "        data.append(tmp_df)\n",
    "    \n",
    "    df = pd.concat(data, ignore_index=True, sort =False)\n",
    "\n",
    "    # filter data by date\n",
    "    df = df.astype({'Sec': 'int64'})\n",
    "    df.rename(index=str, columns={'Min':'Minute'}, inplace=True)\n",
    "    df.rename(index=str, columns={'Sec':'Second'}, inplace=True)\n",
    "    df['Year'] = pd.Series(2019, index=df.index)\n",
    "    df = df.set_index(pd.to_datetime(df[['Year', 'Month', 'Day', 'Hour', 'Minute', 'Second']]))\n",
    "    df = df.loc['2019-10-16 08:00:00' : '2019-10-20 08:00:00']\n",
    "    \n",
    "    df = df[['XRMSAve','YRMSAve']]\n",
    "    \n",
    "    # remove extreme values\n",
    "    df = df[(df.XRMSAve < 53) & (df.XRMSAve > 40)]\n",
    "    df = df[(df.YRMSAve < 53) & (df.YRMSAve > 40)]\n",
    "    \n",
    "    data = df.to_numpy()\n",
    "\n",
    "    print('XRMSAve MIN: %.2f, MAX: %.2f' % (data[:,0].min(), data[:,0].max()))\n",
    "    print('XRMSAve STD: %.4f' % (data[:,0].std()))\n",
    "    print('YRMSAve MIN: %.2f, MAX: %.2f' % (data[:,1].min(), data[:,1].max()))\n",
    "    print('YRMSAve STD: %.4f' % (data[:,1].std()))"
   ]
  },
  {
   "cell_type": "code",
   "execution_count": 3,
   "metadata": {},
   "outputs": [],
   "source": [
    "# function to get YMRSAve with downsample\n",
    "def getYRMS1(fs):\n",
    "    data = []\n",
    "    # load files\n",
    "    for f in fs:\n",
    "        tmp_df = pd.read_pickle(f)\n",
    "        data.append(tmp_df)\n",
    "    \n",
    "    df = pd.concat(data, ignore_index=True, sort =False)\n",
    "\n",
    "    # filter data by date\n",
    "    df = df.astype({'Sec': 'int64'})\n",
    "    df.rename(index=str, columns={'Min':'Minute'}, inplace=True)\n",
    "    df.rename(index=str, columns={'Sec':'Second'}, inplace=True)\n",
    "    df['Year'] = pd.Series(2019, index=df.index)\n",
    "    df = df.set_index(pd.to_datetime(df[['Year', 'Month', 'Day', 'Hour', 'Minute', 'Second']]))\n",
    "    df = df.loc['2019-10-16 08:00:00' : '2019-10-20 08:00:00']\n",
    "    \n",
    "    df = df[['XRMSAve','YRMSAve']]\n",
    "    \n",
    "    # downsample\n",
    "    idx = list(range(0, len(df), 10))\n",
    "    df = df.iloc[idx,:]\n",
    "    \n",
    "    # remove extreme values\n",
    "    df = df[(df.XRMSAve < 53) & (df.XRMSAve > 40)]\n",
    "    df = df[(df.YRMSAve < 53) & (df.YRMSAve > 40)]\n",
    "    \n",
    "    data = df.to_numpy()\n",
    "\n",
    "    print('XRMSAve MIN: %.2f, MAX: %.2f' % (data[:,0].min(), data[:,0].max()))\n",
    "    print('XRMSAve STD: %.4f' % (data[:,0].std()))\n",
    "    print('YRMSAve MIN: %.2f, MAX: %.2f' % (data[:,1].min(), data[:,1].max()))\n",
    "    print('YRMSAve STD: %.4f' % (data[:,1].std()))"
   ]
  },
  {
   "cell_type": "code",
   "execution_count": 4,
   "metadata": {},
   "outputs": [],
   "source": [
    "files = [\"EPU_2019.10.16_00.00.raw.pickle.gz\", \"EPU_2019.10.17_00.00.raw.pickle.gz\", \\\n",
    "         \"EPU_2019.10.18_00.00.raw.pickle.gz\", \"EPU_2019.10.19_00.00.raw.pickle.gz\", \\\n",
    "         \"EPU_2019.10.20_00.00.raw.pickle.gz\", ]"
   ]
  },
  {
   "cell_type": "code",
   "execution_count": 5,
   "metadata": {},
   "outputs": [
    {
     "name": "stdout",
     "output_type": "stream",
     "text": [
      "XRMSAve MIN: 44.30, MAX: 49.30\n",
      "XRMSAve STD: 0.2510\n",
      "YRMSAve MIN: 40.80, MAX: 50.50\n",
      "YRMSAve STD: 0.9303\n"
     ]
    }
   ],
   "source": [
    "getYRMS(files)"
   ]
  },
  {
   "cell_type": "code",
   "execution_count": 6,
   "metadata": {},
   "outputs": [
    {
     "name": "stdout",
     "output_type": "stream",
     "text": [
      "XRMSAve MIN: 44.30, MAX: 49.30\n",
      "XRMSAve STD: 0.2526\n",
      "YRMSAve MIN: 40.80, MAX: 50.50\n",
      "YRMSAve STD: 0.9301\n"
     ]
    }
   ],
   "source": [
    "getYRMS1(files)"
   ]
  },
  {
   "cell_type": "code",
   "execution_count": null,
   "metadata": {},
   "outputs": [],
   "source": []
  }
 ],
 "metadata": {
  "kernelspec": {
   "display_name": "Python 3",
   "language": "python",
   "name": "python3"
  },
  "language_info": {
   "codemirror_mode": {
    "name": "ipython",
    "version": 3
   },
   "file_extension": ".py",
   "mimetype": "text/x-python",
   "name": "python",
   "nbconvert_exporter": "python",
   "pygments_lexer": "ipython3",
   "version": "3.7.3"
  }
 },
 "nbformat": 4,
 "nbformat_minor": 4
}
